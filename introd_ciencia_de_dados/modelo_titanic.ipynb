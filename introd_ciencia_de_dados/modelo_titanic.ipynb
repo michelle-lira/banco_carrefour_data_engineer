{
  "nbformat": 4,
  "nbformat_minor": 0,
  "metadata": {
    "colab": {
      "name": "modelo_titanic.ipynb",
      "provenance": [],
      "collapsed_sections": []
    },
    "kernelspec": {
      "name": "python3",
      "display_name": "Python 3"
    },
    "language_info": {
      "name": "python"
    }
  },
  "cells": [
    {
      "cell_type": "markdown",
      "metadata": {
        "id": "JF27Mnv4muqN"
      },
      "source": [
        "# Bootcamp Carrefour Data Engineer\n",
        "\n",
        "## Curso: Introd. à Ciência de Dados - Digital Innovation One"
      ]
    },
    {
      "cell_type": "markdown",
      "metadata": {
        "id": "TZ-tU0oZFKFU"
      },
      "source": [
        "## Objetivo da Atividade\n",
        "\n",
        "Criaremos um modelo de machine learning com o intuito de calcular a probabilidade de sobrevivência dos tripulantes do Titanic."
      ]
    },
    {
      "cell_type": "markdown",
      "metadata": {
        "id": "GFWiS_r5FE0p"
      },
      "source": [
        "## Dados do Titanic\n",
        "\n",
        "https://www.kaggle.com/hesh97/titanicdataset-traincsv"
      ]
    },
    {
      "cell_type": "markdown",
      "metadata": {
        "id": "HXvrL9jZmUz5"
      },
      "source": [
        "## Pacotes necessários"
      ]
    },
    {
      "cell_type": "code",
      "metadata": {
        "id": "zb3Hy0GmlATe"
      },
      "source": [
        "import pandas as pd\n",
        "import numpy as np\n",
        "from sklearn.ensemble import RandomForestClassifier\n",
        "from sklearn.model_selection import train_test_split"
      ],
      "execution_count": 46,
      "outputs": []
    },
    {
      "cell_type": "markdown",
      "metadata": {
        "id": "st5noFbMmctX"
      },
      "source": [
        "## Lendo o banco de dados"
      ]
    },
    {
      "cell_type": "code",
      "metadata": {
        "id": "8Fjo9yc6mSBr"
      },
      "source": [
        "dados = pd.read_csv('https://raw.githubusercontent.com/michelle-lira/banco_carrefour_data_engineer/main/introd_ciencia_de_dados/train.csv')"
      ],
      "execution_count": 47,
      "outputs": []
    },
    {
      "cell_type": "code",
      "metadata": {
        "colab": {
          "base_uri": "https://localhost:8080/",
          "height": 206
        },
        "id": "edvNb_eOnbf7",
        "outputId": "c9f39c08-18ee-4e97-846a-64f5be617418"
      },
      "source": [
        "# Visualizando as 5 primeiras linhas do banco de dados:\n",
        "dados.head()"
      ],
      "execution_count": 48,
      "outputs": [
        {
          "output_type": "execute_result",
          "data": {
            "text/html": [
              "<div>\n",
              "<style scoped>\n",
              "    .dataframe tbody tr th:only-of-type {\n",
              "        vertical-align: middle;\n",
              "    }\n",
              "\n",
              "    .dataframe tbody tr th {\n",
              "        vertical-align: top;\n",
              "    }\n",
              "\n",
              "    .dataframe thead th {\n",
              "        text-align: right;\n",
              "    }\n",
              "</style>\n",
              "<table border=\"1\" class=\"dataframe\">\n",
              "  <thead>\n",
              "    <tr style=\"text-align: right;\">\n",
              "      <th></th>\n",
              "      <th>PassengerId</th>\n",
              "      <th>Survived</th>\n",
              "      <th>Pclass</th>\n",
              "      <th>Name</th>\n",
              "      <th>Sex</th>\n",
              "      <th>Age</th>\n",
              "      <th>SibSp</th>\n",
              "      <th>Parch</th>\n",
              "      <th>Ticket</th>\n",
              "      <th>Fare</th>\n",
              "      <th>Cabin</th>\n",
              "      <th>Embarked</th>\n",
              "    </tr>\n",
              "  </thead>\n",
              "  <tbody>\n",
              "    <tr>\n",
              "      <th>0</th>\n",
              "      <td>1</td>\n",
              "      <td>0</td>\n",
              "      <td>3</td>\n",
              "      <td>Braund, Mr. Owen Harris</td>\n",
              "      <td>male</td>\n",
              "      <td>22.0</td>\n",
              "      <td>1</td>\n",
              "      <td>0</td>\n",
              "      <td>A/5 21171</td>\n",
              "      <td>7.2500</td>\n",
              "      <td>NaN</td>\n",
              "      <td>S</td>\n",
              "    </tr>\n",
              "    <tr>\n",
              "      <th>1</th>\n",
              "      <td>2</td>\n",
              "      <td>1</td>\n",
              "      <td>1</td>\n",
              "      <td>Cumings, Mrs. John Bradley (Florence Briggs Th...</td>\n",
              "      <td>female</td>\n",
              "      <td>38.0</td>\n",
              "      <td>1</td>\n",
              "      <td>0</td>\n",
              "      <td>PC 17599</td>\n",
              "      <td>71.2833</td>\n",
              "      <td>C85</td>\n",
              "      <td>C</td>\n",
              "    </tr>\n",
              "    <tr>\n",
              "      <th>2</th>\n",
              "      <td>3</td>\n",
              "      <td>1</td>\n",
              "      <td>3</td>\n",
              "      <td>Heikkinen, Miss. Laina</td>\n",
              "      <td>female</td>\n",
              "      <td>26.0</td>\n",
              "      <td>0</td>\n",
              "      <td>0</td>\n",
              "      <td>STON/O2. 3101282</td>\n",
              "      <td>7.9250</td>\n",
              "      <td>NaN</td>\n",
              "      <td>S</td>\n",
              "    </tr>\n",
              "    <tr>\n",
              "      <th>3</th>\n",
              "      <td>4</td>\n",
              "      <td>1</td>\n",
              "      <td>1</td>\n",
              "      <td>Futrelle, Mrs. Jacques Heath (Lily May Peel)</td>\n",
              "      <td>female</td>\n",
              "      <td>35.0</td>\n",
              "      <td>1</td>\n",
              "      <td>0</td>\n",
              "      <td>113803</td>\n",
              "      <td>53.1000</td>\n",
              "      <td>C123</td>\n",
              "      <td>S</td>\n",
              "    </tr>\n",
              "    <tr>\n",
              "      <th>4</th>\n",
              "      <td>5</td>\n",
              "      <td>0</td>\n",
              "      <td>3</td>\n",
              "      <td>Allen, Mr. William Henry</td>\n",
              "      <td>male</td>\n",
              "      <td>35.0</td>\n",
              "      <td>0</td>\n",
              "      <td>0</td>\n",
              "      <td>373450</td>\n",
              "      <td>8.0500</td>\n",
              "      <td>NaN</td>\n",
              "      <td>S</td>\n",
              "    </tr>\n",
              "  </tbody>\n",
              "</table>\n",
              "</div>"
            ],
            "text/plain": [
              "   PassengerId  Survived  Pclass  ...     Fare Cabin  Embarked\n",
              "0            1         0       3  ...   7.2500   NaN         S\n",
              "1            2         1       1  ...  71.2833   C85         C\n",
              "2            3         1       3  ...   7.9250   NaN         S\n",
              "3            4         1       1  ...  53.1000  C123         S\n",
              "4            5         0       3  ...   8.0500   NaN         S\n",
              "\n",
              "[5 rows x 12 columns]"
            ]
          },
          "metadata": {
            "tags": []
          },
          "execution_count": 48
        }
      ]
    },
    {
      "cell_type": "code",
      "metadata": {
        "id": "6MwZrHSonsLg"
      },
      "source": [
        "# Removendo informações desnecessárias para o nosso modelo:\n",
        "dados = dados.drop(['Name', 'Ticket', 'Cabin', 'Embarked'], axis = 1)"
      ],
      "execution_count": 49,
      "outputs": []
    },
    {
      "cell_type": "code",
      "metadata": {
        "colab": {
          "base_uri": "https://localhost:8080/",
          "height": 206
        },
        "id": "gFUrCHOKoCPe",
        "outputId": "f2c3cf61-5af1-4895-b0e6-c66263099c60"
      },
      "source": [
        "dados.head()"
      ],
      "execution_count": 50,
      "outputs": [
        {
          "output_type": "execute_result",
          "data": {
            "text/html": [
              "<div>\n",
              "<style scoped>\n",
              "    .dataframe tbody tr th:only-of-type {\n",
              "        vertical-align: middle;\n",
              "    }\n",
              "\n",
              "    .dataframe tbody tr th {\n",
              "        vertical-align: top;\n",
              "    }\n",
              "\n",
              "    .dataframe thead th {\n",
              "        text-align: right;\n",
              "    }\n",
              "</style>\n",
              "<table border=\"1\" class=\"dataframe\">\n",
              "  <thead>\n",
              "    <tr style=\"text-align: right;\">\n",
              "      <th></th>\n",
              "      <th>PassengerId</th>\n",
              "      <th>Survived</th>\n",
              "      <th>Pclass</th>\n",
              "      <th>Sex</th>\n",
              "      <th>Age</th>\n",
              "      <th>SibSp</th>\n",
              "      <th>Parch</th>\n",
              "      <th>Fare</th>\n",
              "    </tr>\n",
              "  </thead>\n",
              "  <tbody>\n",
              "    <tr>\n",
              "      <th>0</th>\n",
              "      <td>1</td>\n",
              "      <td>0</td>\n",
              "      <td>3</td>\n",
              "      <td>male</td>\n",
              "      <td>22.0</td>\n",
              "      <td>1</td>\n",
              "      <td>0</td>\n",
              "      <td>7.2500</td>\n",
              "    </tr>\n",
              "    <tr>\n",
              "      <th>1</th>\n",
              "      <td>2</td>\n",
              "      <td>1</td>\n",
              "      <td>1</td>\n",
              "      <td>female</td>\n",
              "      <td>38.0</td>\n",
              "      <td>1</td>\n",
              "      <td>0</td>\n",
              "      <td>71.2833</td>\n",
              "    </tr>\n",
              "    <tr>\n",
              "      <th>2</th>\n",
              "      <td>3</td>\n",
              "      <td>1</td>\n",
              "      <td>3</td>\n",
              "      <td>female</td>\n",
              "      <td>26.0</td>\n",
              "      <td>0</td>\n",
              "      <td>0</td>\n",
              "      <td>7.9250</td>\n",
              "    </tr>\n",
              "    <tr>\n",
              "      <th>3</th>\n",
              "      <td>4</td>\n",
              "      <td>1</td>\n",
              "      <td>1</td>\n",
              "      <td>female</td>\n",
              "      <td>35.0</td>\n",
              "      <td>1</td>\n",
              "      <td>0</td>\n",
              "      <td>53.1000</td>\n",
              "    </tr>\n",
              "    <tr>\n",
              "      <th>4</th>\n",
              "      <td>5</td>\n",
              "      <td>0</td>\n",
              "      <td>3</td>\n",
              "      <td>male</td>\n",
              "      <td>35.0</td>\n",
              "      <td>0</td>\n",
              "      <td>0</td>\n",
              "      <td>8.0500</td>\n",
              "    </tr>\n",
              "  </tbody>\n",
              "</table>\n",
              "</div>"
            ],
            "text/plain": [
              "   PassengerId  Survived  Pclass     Sex   Age  SibSp  Parch     Fare\n",
              "0            1         0       3    male  22.0      1      0   7.2500\n",
              "1            2         1       1  female  38.0      1      0  71.2833\n",
              "2            3         1       3  female  26.0      0      0   7.9250\n",
              "3            4         1       1  female  35.0      1      0  53.1000\n",
              "4            5         0       3    male  35.0      0      0   8.0500"
            ]
          },
          "metadata": {
            "tags": []
          },
          "execution_count": 50
        }
      ]
    },
    {
      "cell_type": "markdown",
      "metadata": {
        "id": "-GucdpILo1NY"
      },
      "source": [
        "## Editando Chave e Variável Resposta"
      ]
    },
    {
      "cell_type": "code",
      "metadata": {
        "id": "VR9saIN4o7WK"
      },
      "source": [
        "dados = dados.set_index(['PassengerId'])\n",
        "dados = dados.rename(columns = {'Survived': 'target'}, inplace = False)"
      ],
      "execution_count": 51,
      "outputs": []
    },
    {
      "cell_type": "code",
      "metadata": {
        "colab": {
          "base_uri": "https://localhost:8080/",
          "height": 238
        },
        "id": "KO8vcY6pptPz",
        "outputId": "52bddf82-dead-41f7-9cea-5f10e066706e"
      },
      "source": [
        "dados.head()"
      ],
      "execution_count": 52,
      "outputs": [
        {
          "output_type": "execute_result",
          "data": {
            "text/html": [
              "<div>\n",
              "<style scoped>\n",
              "    .dataframe tbody tr th:only-of-type {\n",
              "        vertical-align: middle;\n",
              "    }\n",
              "\n",
              "    .dataframe tbody tr th {\n",
              "        vertical-align: top;\n",
              "    }\n",
              "\n",
              "    .dataframe thead th {\n",
              "        text-align: right;\n",
              "    }\n",
              "</style>\n",
              "<table border=\"1\" class=\"dataframe\">\n",
              "  <thead>\n",
              "    <tr style=\"text-align: right;\">\n",
              "      <th></th>\n",
              "      <th>target</th>\n",
              "      <th>Pclass</th>\n",
              "      <th>Sex</th>\n",
              "      <th>Age</th>\n",
              "      <th>SibSp</th>\n",
              "      <th>Parch</th>\n",
              "      <th>Fare</th>\n",
              "    </tr>\n",
              "    <tr>\n",
              "      <th>PassengerId</th>\n",
              "      <th></th>\n",
              "      <th></th>\n",
              "      <th></th>\n",
              "      <th></th>\n",
              "      <th></th>\n",
              "      <th></th>\n",
              "      <th></th>\n",
              "    </tr>\n",
              "  </thead>\n",
              "  <tbody>\n",
              "    <tr>\n",
              "      <th>1</th>\n",
              "      <td>0</td>\n",
              "      <td>3</td>\n",
              "      <td>male</td>\n",
              "      <td>22.0</td>\n",
              "      <td>1</td>\n",
              "      <td>0</td>\n",
              "      <td>7.2500</td>\n",
              "    </tr>\n",
              "    <tr>\n",
              "      <th>2</th>\n",
              "      <td>1</td>\n",
              "      <td>1</td>\n",
              "      <td>female</td>\n",
              "      <td>38.0</td>\n",
              "      <td>1</td>\n",
              "      <td>0</td>\n",
              "      <td>71.2833</td>\n",
              "    </tr>\n",
              "    <tr>\n",
              "      <th>3</th>\n",
              "      <td>1</td>\n",
              "      <td>3</td>\n",
              "      <td>female</td>\n",
              "      <td>26.0</td>\n",
              "      <td>0</td>\n",
              "      <td>0</td>\n",
              "      <td>7.9250</td>\n",
              "    </tr>\n",
              "    <tr>\n",
              "      <th>4</th>\n",
              "      <td>1</td>\n",
              "      <td>1</td>\n",
              "      <td>female</td>\n",
              "      <td>35.0</td>\n",
              "      <td>1</td>\n",
              "      <td>0</td>\n",
              "      <td>53.1000</td>\n",
              "    </tr>\n",
              "    <tr>\n",
              "      <th>5</th>\n",
              "      <td>0</td>\n",
              "      <td>3</td>\n",
              "      <td>male</td>\n",
              "      <td>35.0</td>\n",
              "      <td>0</td>\n",
              "      <td>0</td>\n",
              "      <td>8.0500</td>\n",
              "    </tr>\n",
              "  </tbody>\n",
              "</table>\n",
              "</div>"
            ],
            "text/plain": [
              "             target  Pclass     Sex   Age  SibSp  Parch     Fare\n",
              "PassengerId                                                     \n",
              "1                 0       3    male  22.0      1      0   7.2500\n",
              "2                 1       1  female  38.0      1      0  71.2833\n",
              "3                 1       3  female  26.0      0      0   7.9250\n",
              "4                 1       1  female  35.0      1      0  53.1000\n",
              "5                 0       3    male  35.0      0      0   8.0500"
            ]
          },
          "metadata": {
            "tags": []
          },
          "execution_count": 52
        }
      ]
    },
    {
      "cell_type": "markdown",
      "metadata": {
        "id": "GU5OlXcnp57l"
      },
      "source": [
        "## Descritiva"
      ]
    },
    {
      "cell_type": "code",
      "metadata": {
        "colab": {
          "base_uri": "https://localhost:8080/",
          "height": 300
        },
        "id": "ZH8WuGgLp708",
        "outputId": "bac80924-ce07-467f-9e23-4da3ce8536b4"
      },
      "source": [
        "# Checando os dados possíveis de serem contabilizados\n",
        "dados.describe()"
      ],
      "execution_count": 53,
      "outputs": [
        {
          "output_type": "execute_result",
          "data": {
            "text/html": [
              "<div>\n",
              "<style scoped>\n",
              "    .dataframe tbody tr th:only-of-type {\n",
              "        vertical-align: middle;\n",
              "    }\n",
              "\n",
              "    .dataframe tbody tr th {\n",
              "        vertical-align: top;\n",
              "    }\n",
              "\n",
              "    .dataframe thead th {\n",
              "        text-align: right;\n",
              "    }\n",
              "</style>\n",
              "<table border=\"1\" class=\"dataframe\">\n",
              "  <thead>\n",
              "    <tr style=\"text-align: right;\">\n",
              "      <th></th>\n",
              "      <th>target</th>\n",
              "      <th>Pclass</th>\n",
              "      <th>Age</th>\n",
              "      <th>SibSp</th>\n",
              "      <th>Parch</th>\n",
              "      <th>Fare</th>\n",
              "    </tr>\n",
              "  </thead>\n",
              "  <tbody>\n",
              "    <tr>\n",
              "      <th>count</th>\n",
              "      <td>891.000000</td>\n",
              "      <td>891.000000</td>\n",
              "      <td>714.000000</td>\n",
              "      <td>891.000000</td>\n",
              "      <td>891.000000</td>\n",
              "      <td>891.000000</td>\n",
              "    </tr>\n",
              "    <tr>\n",
              "      <th>mean</th>\n",
              "      <td>0.383838</td>\n",
              "      <td>2.308642</td>\n",
              "      <td>29.699118</td>\n",
              "      <td>0.523008</td>\n",
              "      <td>0.381594</td>\n",
              "      <td>32.204208</td>\n",
              "    </tr>\n",
              "    <tr>\n",
              "      <th>std</th>\n",
              "      <td>0.486592</td>\n",
              "      <td>0.836071</td>\n",
              "      <td>14.526497</td>\n",
              "      <td>1.102743</td>\n",
              "      <td>0.806057</td>\n",
              "      <td>49.693429</td>\n",
              "    </tr>\n",
              "    <tr>\n",
              "      <th>min</th>\n",
              "      <td>0.000000</td>\n",
              "      <td>1.000000</td>\n",
              "      <td>0.420000</td>\n",
              "      <td>0.000000</td>\n",
              "      <td>0.000000</td>\n",
              "      <td>0.000000</td>\n",
              "    </tr>\n",
              "    <tr>\n",
              "      <th>25%</th>\n",
              "      <td>0.000000</td>\n",
              "      <td>2.000000</td>\n",
              "      <td>20.125000</td>\n",
              "      <td>0.000000</td>\n",
              "      <td>0.000000</td>\n",
              "      <td>7.910400</td>\n",
              "    </tr>\n",
              "    <tr>\n",
              "      <th>50%</th>\n",
              "      <td>0.000000</td>\n",
              "      <td>3.000000</td>\n",
              "      <td>28.000000</td>\n",
              "      <td>0.000000</td>\n",
              "      <td>0.000000</td>\n",
              "      <td>14.454200</td>\n",
              "    </tr>\n",
              "    <tr>\n",
              "      <th>75%</th>\n",
              "      <td>1.000000</td>\n",
              "      <td>3.000000</td>\n",
              "      <td>38.000000</td>\n",
              "      <td>1.000000</td>\n",
              "      <td>0.000000</td>\n",
              "      <td>31.000000</td>\n",
              "    </tr>\n",
              "    <tr>\n",
              "      <th>max</th>\n",
              "      <td>1.000000</td>\n",
              "      <td>3.000000</td>\n",
              "      <td>80.000000</td>\n",
              "      <td>8.000000</td>\n",
              "      <td>6.000000</td>\n",
              "      <td>512.329200</td>\n",
              "    </tr>\n",
              "  </tbody>\n",
              "</table>\n",
              "</div>"
            ],
            "text/plain": [
              "           target      Pclass         Age       SibSp       Parch        Fare\n",
              "count  891.000000  891.000000  714.000000  891.000000  891.000000  891.000000\n",
              "mean     0.383838    2.308642   29.699118    0.523008    0.381594   32.204208\n",
              "std      0.486592    0.836071   14.526497    1.102743    0.806057   49.693429\n",
              "min      0.000000    1.000000    0.420000    0.000000    0.000000    0.000000\n",
              "25%      0.000000    2.000000   20.125000    0.000000    0.000000    7.910400\n",
              "50%      0.000000    3.000000   28.000000    0.000000    0.000000   14.454200\n",
              "75%      1.000000    3.000000   38.000000    1.000000    0.000000   31.000000\n",
              "max      1.000000    3.000000   80.000000    8.000000    6.000000  512.329200"
            ]
          },
          "metadata": {
            "tags": []
          },
          "execution_count": 53
        }
      ]
    },
    {
      "cell_type": "code",
      "metadata": {
        "colab": {
          "base_uri": "https://localhost:8080/",
          "height": 175
        },
        "id": "P_bCdg5hqleI",
        "outputId": "2abcb88a-cff5-41c2-b67b-7a6d256858c3"
      },
      "source": [
        "# Passando parâmetro na função describe para obter mais informações\n",
        "dados.describe(include=['O'])"
      ],
      "execution_count": 54,
      "outputs": [
        {
          "output_type": "execute_result",
          "data": {
            "text/html": [
              "<div>\n",
              "<style scoped>\n",
              "    .dataframe tbody tr th:only-of-type {\n",
              "        vertical-align: middle;\n",
              "    }\n",
              "\n",
              "    .dataframe tbody tr th {\n",
              "        vertical-align: top;\n",
              "    }\n",
              "\n",
              "    .dataframe thead th {\n",
              "        text-align: right;\n",
              "    }\n",
              "</style>\n",
              "<table border=\"1\" class=\"dataframe\">\n",
              "  <thead>\n",
              "    <tr style=\"text-align: right;\">\n",
              "      <th></th>\n",
              "      <th>Sex</th>\n",
              "    </tr>\n",
              "  </thead>\n",
              "  <tbody>\n",
              "    <tr>\n",
              "      <th>count</th>\n",
              "      <td>891</td>\n",
              "    </tr>\n",
              "    <tr>\n",
              "      <th>unique</th>\n",
              "      <td>2</td>\n",
              "    </tr>\n",
              "    <tr>\n",
              "      <th>top</th>\n",
              "      <td>male</td>\n",
              "    </tr>\n",
              "    <tr>\n",
              "      <th>freq</th>\n",
              "      <td>577</td>\n",
              "    </tr>\n",
              "  </tbody>\n",
              "</table>\n",
              "</div>"
            ],
            "text/plain": [
              "         Sex\n",
              "count    891\n",
              "unique     2\n",
              "top     male\n",
              "freq     577"
            ]
          },
          "metadata": {
            "tags": []
          },
          "execution_count": 54
        }
      ]
    },
    {
      "cell_type": "markdown",
      "metadata": {
        "id": "54L-00oWqCjz"
      },
      "source": [
        "## Transformação dos Dados"
      ]
    },
    {
      "cell_type": "code",
      "metadata": {
        "id": "Tz8JHv-7qHdF"
      },
      "source": [
        "# Utilizando uma flag para o modelo poder contabilidar dados categóricos\n",
        "# como o sexo, por exemplo:\n",
        "dados['Sex_F'] = np.where(dados['Sex'] == 'female', 1, 0)\n",
        "\n",
        "dados['Pclass_1'] = np.where(dados['Pclass'] == 1, 1, 0)\n",
        "dados['Pclass_2'] = np.where(dados['Pclass'] == 2, 1, 0)\n",
        "dados['Pclass_3'] = np.where(dados['Pclass'] == 3, 1, 0)"
      ],
      "execution_count": 55,
      "outputs": []
    },
    {
      "cell_type": "code",
      "metadata": {
        "id": "mmRItD-esmHU"
      },
      "source": [
        "dados = dados.drop(['Pclass', 'Sex'], axis = 1)"
      ],
      "execution_count": 56,
      "outputs": []
    },
    {
      "cell_type": "code",
      "metadata": {
        "colab": {
          "base_uri": "https://localhost:8080/",
          "height": 238
        },
        "id": "TRzL2tsbswvO",
        "outputId": "d42cb466-d224-445e-caa0-109fab5199d6"
      },
      "source": [
        "dados.head()"
      ],
      "execution_count": 57,
      "outputs": [
        {
          "output_type": "execute_result",
          "data": {
            "text/html": [
              "<div>\n",
              "<style scoped>\n",
              "    .dataframe tbody tr th:only-of-type {\n",
              "        vertical-align: middle;\n",
              "    }\n",
              "\n",
              "    .dataframe tbody tr th {\n",
              "        vertical-align: top;\n",
              "    }\n",
              "\n",
              "    .dataframe thead th {\n",
              "        text-align: right;\n",
              "    }\n",
              "</style>\n",
              "<table border=\"1\" class=\"dataframe\">\n",
              "  <thead>\n",
              "    <tr style=\"text-align: right;\">\n",
              "      <th></th>\n",
              "      <th>target</th>\n",
              "      <th>Age</th>\n",
              "      <th>SibSp</th>\n",
              "      <th>Parch</th>\n",
              "      <th>Fare</th>\n",
              "      <th>Sex_F</th>\n",
              "      <th>Pclass_1</th>\n",
              "      <th>Pclass_2</th>\n",
              "      <th>Pclass_3</th>\n",
              "    </tr>\n",
              "    <tr>\n",
              "      <th>PassengerId</th>\n",
              "      <th></th>\n",
              "      <th></th>\n",
              "      <th></th>\n",
              "      <th></th>\n",
              "      <th></th>\n",
              "      <th></th>\n",
              "      <th></th>\n",
              "      <th></th>\n",
              "      <th></th>\n",
              "    </tr>\n",
              "  </thead>\n",
              "  <tbody>\n",
              "    <tr>\n",
              "      <th>1</th>\n",
              "      <td>0</td>\n",
              "      <td>22.0</td>\n",
              "      <td>1</td>\n",
              "      <td>0</td>\n",
              "      <td>7.2500</td>\n",
              "      <td>0</td>\n",
              "      <td>0</td>\n",
              "      <td>0</td>\n",
              "      <td>1</td>\n",
              "    </tr>\n",
              "    <tr>\n",
              "      <th>2</th>\n",
              "      <td>1</td>\n",
              "      <td>38.0</td>\n",
              "      <td>1</td>\n",
              "      <td>0</td>\n",
              "      <td>71.2833</td>\n",
              "      <td>1</td>\n",
              "      <td>1</td>\n",
              "      <td>0</td>\n",
              "      <td>0</td>\n",
              "    </tr>\n",
              "    <tr>\n",
              "      <th>3</th>\n",
              "      <td>1</td>\n",
              "      <td>26.0</td>\n",
              "      <td>0</td>\n",
              "      <td>0</td>\n",
              "      <td>7.9250</td>\n",
              "      <td>1</td>\n",
              "      <td>0</td>\n",
              "      <td>0</td>\n",
              "      <td>1</td>\n",
              "    </tr>\n",
              "    <tr>\n",
              "      <th>4</th>\n",
              "      <td>1</td>\n",
              "      <td>35.0</td>\n",
              "      <td>1</td>\n",
              "      <td>0</td>\n",
              "      <td>53.1000</td>\n",
              "      <td>1</td>\n",
              "      <td>1</td>\n",
              "      <td>0</td>\n",
              "      <td>0</td>\n",
              "    </tr>\n",
              "    <tr>\n",
              "      <th>5</th>\n",
              "      <td>0</td>\n",
              "      <td>35.0</td>\n",
              "      <td>0</td>\n",
              "      <td>0</td>\n",
              "      <td>8.0500</td>\n",
              "      <td>0</td>\n",
              "      <td>0</td>\n",
              "      <td>0</td>\n",
              "      <td>1</td>\n",
              "    </tr>\n",
              "  </tbody>\n",
              "</table>\n",
              "</div>"
            ],
            "text/plain": [
              "             target   Age  SibSp  Parch  ...  Sex_F  Pclass_1  Pclass_2  Pclass_3\n",
              "PassengerId                              ...                                     \n",
              "1                 0  22.0      1      0  ...      0         0         0         1\n",
              "2                 1  38.0      1      0  ...      1         1         0         0\n",
              "3                 1  26.0      0      0  ...      1         0         0         1\n",
              "4                 1  35.0      1      0  ...      1         1         0         0\n",
              "5                 0  35.0      0      0  ...      0         0         0         1\n",
              "\n",
              "[5 rows x 9 columns]"
            ]
          },
          "metadata": {
            "tags": []
          },
          "execution_count": 57
        }
      ]
    },
    {
      "cell_type": "code",
      "metadata": {
        "colab": {
          "base_uri": "https://localhost:8080/"
        },
        "id": "0Td4BEqPs2sA",
        "outputId": "12241f81-7f97-43a8-bd6d-394c00defa23"
      },
      "source": [
        "# Verificando a quantidade de dados faltantes\n",
        "dados.isnull().sum()"
      ],
      "execution_count": 58,
      "outputs": [
        {
          "output_type": "execute_result",
          "data": {
            "text/plain": [
              "target        0\n",
              "Age         177\n",
              "SibSp         0\n",
              "Parch         0\n",
              "Fare          0\n",
              "Sex_F         0\n",
              "Pclass_1      0\n",
              "Pclass_2      0\n",
              "Pclass_3      0\n",
              "dtype: int64"
            ]
          },
          "metadata": {
            "tags": []
          },
          "execution_count": 58
        }
      ]
    },
    {
      "cell_type": "code",
      "metadata": {
        "id": "Z03sLE3cs6z2"
      },
      "source": [
        "# Os dados faltantes serão substituídos por 0\n",
        "dados.fillna(0, inplace = True)"
      ],
      "execution_count": 59,
      "outputs": []
    },
    {
      "cell_type": "code",
      "metadata": {
        "colab": {
          "base_uri": "https://localhost:8080/"
        },
        "id": "pwW3QfKit1kg",
        "outputId": "3c9a7822-9897-4b7e-99d6-25b3877c3e9b"
      },
      "source": [
        "dados.isnull().sum()"
      ],
      "execution_count": 34,
      "outputs": [
        {
          "output_type": "execute_result",
          "data": {
            "text/plain": [
              "target      0\n",
              "Age         0\n",
              "SibSp       0\n",
              "Parch       0\n",
              "Fare        0\n",
              "Sex_F       0\n",
              "Pclass_1    0\n",
              "Pclass_2    0\n",
              "Pclass_3    0\n",
              "dtype: int64"
            ]
          },
          "metadata": {
            "tags": []
          },
          "execution_count": 34
        }
      ]
    },
    {
      "cell_type": "markdown",
      "metadata": {
        "id": "uuq5t-xgqIBX"
      },
      "source": [
        "## Amostragem"
      ]
    },
    {
      "cell_type": "code",
      "metadata": {
        "colab": {
          "base_uri": "https://localhost:8080/"
        },
        "id": "HAnpTVJJqKAP",
        "outputId": "9e4d3593-b4bb-40ff-cb6a-4424ed36cbfb"
      },
      "source": [
        "# Separando 70% dos meus dados para treino e 30% para teste do modelo\n",
        "x_train, x_test, y_train, y_test = train_test_split(dados.drop(['target'], axis = 1),\n",
        "                                                    dados[\"target\"],\n",
        "                                                    test_size = 0.3,\n",
        "                                                    random_state = 1234)\n",
        "[{'treino': x_train.shape},\n",
        " {'teste': x_test.shape}]"
      ],
      "execution_count": 60,
      "outputs": [
        {
          "output_type": "execute_result",
          "data": {
            "text/plain": [
              "[{'treino': (623, 8)}, {'teste': (268, 8)}]"
            ]
          },
          "metadata": {
            "tags": []
          },
          "execution_count": 60
        }
      ]
    },
    {
      "cell_type": "markdown",
      "metadata": {
        "id": "Q8MwASCDuOmm"
      },
      "source": [
        "## Modelo"
      ]
    },
    {
      "cell_type": "markdown",
      "metadata": {
        "id": "2EfRCc_i_DJp"
      },
      "source": [
        "![random_forest_logo.png](data:image/png;base64,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)"
      ]
    },
    {
      "cell_type": "code",
      "metadata": {
        "colab": {
          "base_uri": "https://localhost:8080/"
        },
        "id": "xz9B0G_ouRTp",
        "outputId": "6a1b5c88-77ac-4e7f-f303-a2cbdf713160"
      },
      "source": [
        "rndforest = RandomForestClassifier(n_estimators = 1000,\n",
        "                                   criterion = 'gini',\n",
        "                                   max_depth = 5)\n",
        "\n",
        "rndforest.fit(x_train, y_train)"
      ],
      "execution_count": 61,
      "outputs": [
        {
          "output_type": "execute_result",
          "data": {
            "text/plain": [
              "RandomForestClassifier(bootstrap=True, ccp_alpha=0.0, class_weight=None,\n",
              "                       criterion='gini', max_depth=5, max_features='auto',\n",
              "                       max_leaf_nodes=None, max_samples=None,\n",
              "                       min_impurity_decrease=0.0, min_impurity_split=None,\n",
              "                       min_samples_leaf=1, min_samples_split=2,\n",
              "                       min_weight_fraction_leaf=0.0, n_estimators=1000,\n",
              "                       n_jobs=None, oob_score=False, random_state=None,\n",
              "                       verbose=0, warm_start=False)"
            ]
          },
          "metadata": {
            "tags": []
          },
          "execution_count": 61
        }
      ]
    },
    {
      "cell_type": "code",
      "metadata": {
        "id": "ayHR9EQGA11A"
      },
      "source": [
        "probabilidade = rndforest.predict_proba(dados.drop('target', axis = 1))[:,1]\n",
        "classificacao = rndforest.predict(dados.drop('target', axis = 1))"
      ],
      "execution_count": 62,
      "outputs": []
    },
    {
      "cell_type": "code",
      "metadata": {
        "id": "emR_9s8bB4sv"
      },
      "source": [
        "dados['probabilidade'] = probabilidade\n",
        "dados['classificacao'] = classificacao"
      ],
      "execution_count": 63,
      "outputs": []
    },
    {
      "cell_type": "markdown",
      "metadata": {
        "id": "TEMq2xC8_oqV"
      },
      "source": [
        "**Instrutor e Autor:** Guilherme Ribeiro Maia  \n",
        "**Contato:** gribeiromaia91@gmail.com"
      ]
    },
    {
      "cell_type": "markdown",
      "metadata": {
        "id": "CLfblfNL_qCi"
      },
      "source": [
        "![dio.png](data:image/png;base64,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)"
      ]
    }
  ]
}